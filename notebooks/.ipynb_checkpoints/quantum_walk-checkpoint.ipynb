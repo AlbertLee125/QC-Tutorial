{
 "cells": [
  {
   "cell_type": "code",
   "execution_count": 1,
   "metadata": {},
   "outputs": [
    {
     "name": "stderr",
     "output_type": "stream",
     "text": [
      "\u001b[32m\u001b[1m  Activating\u001b[22m\u001b[39m project at `C:\\Users\\pedroxavier\\Documents\\QC-Tutorial`\n"
     ]
    }
   ],
   "source": [
    "using Revise\n",
    "\n",
    "import Pkg; Pkg.activate(\"..\")"
   ]
  },
  {
   "cell_type": "code",
   "execution_count": 12,
   "metadata": {},
   "outputs": [],
   "source": [
    "using QCTutorial\n",
    "using Plots\n",
    "using Interact\n",
    "\n",
    "# Make plots look professional\n",
    "Plots.default(;\n",
    "    fontfamily = \"Computer Modern\",\n",
    "    plot_titlefontsize  = 16,\n",
    "    titlefontsize       = 14,\n",
    "    guidefontsize       = 12,\n",
    "    legendfontsize      = 10,\n",
    "    tickfontsize        = 10,\n",
    ")"
   ]
  },
  {
   "cell_type": "code",
   "execution_count": 3,
   "metadata": {},
   "outputs": [
    {
     "data": {
      "text/latex": [
       "$0.5 \\vert{}00\\rangle{} + 0.5 \\vert{}01\\rangle{} + 0.5 \\vert{}10\\rangle{} + 0.5 \\vert{}11\\rangle{}$"
      ],
      "text/plain": [
       "0.5 |00⟩ + 0.5 |01⟩ + 0.5 |10⟩ + 0.5 |11⟩"
      ]
     },
     "execution_count": 3,
     "metadata": {},
     "output_type": "execute_result"
    }
   ],
   "source": [
    "x = sum(State.(0:3, 2)) * (1 / 2)"
   ]
  },
  {
   "cell_type": "code",
   "execution_count": 4,
   "metadata": {},
   "outputs": [
    {
     "data": {
      "text/latex": [
       "$0.5 \\vert{}00\\rangle{} + 0.5 \\vert{}01\\rangle{} + 0.5 \\vert{}10\\rangle{} + 0.5 \\vert{}11\\rangle{}$"
      ],
      "text/plain": [
       "0.5 |00⟩ + 0.5 |01⟩ + 0.5 |10⟩ + 0.5 |11⟩"
      ]
     },
     "execution_count": 4,
     "metadata": {},
     "output_type": "execute_result"
    }
   ],
   "source": [
    "H(2) * State(0, 2)"
   ]
  },
  {
   "cell_type": "markdown",
   "metadata": {},
   "source": [
    "## Random Walks\n",
    "\n",
    "Random walks are stochastic processes over a graph $G$."
   ]
  },
  {
   "cell_type": "markdown",
   "metadata": {},
   "source": [
    "# Drunkard's Walk\n",
    "\n",
    "The drunkard's walk is a random walk on a line.\n",
    "At each step, the drunkard moves left or right with equal probability.\n",
    "The drunkard's walk is a Markov chain, where the state is the position of the drunkard."
   ]
  },
  {
   "cell_type": "code",
   "execution_count": 29,
   "metadata": {},
   "outputs": [
    {
     "data": {
      "text/plain": [
       "random_walk (generic function with 2 methods)"
      ]
     },
     "execution_count": 29,
     "metadata": {},
     "output_type": "execute_result"
    }
   ],
   "source": [
    "function random_walk(n::Integer=100; steps::Integer=25, num_reads::Integer=100n)\n",
    "    # @assert steps < n ÷ 2 \"`steps` must be less than `n ÷ 2`\"\n",
    "\n",
    "    # line positions\n",
    "    m = n ÷ 2\n",
    "    x = zeros(Int, n)\n",
    "\n",
    "    # initial positions\n",
    "    s = fill(m, num_reads)\n",
    "\n",
    "    # random steps for every read\n",
    "    # 2 * r - 1 takes from {0, 1} to {-1, 1}\n",
    "    # sum(r) accounts the total movement for each read.\n",
    "    # s + r broadcasts the sum, giving the final position\n",
    "    r = sum(rand((-1, +1), steps, num_reads); dims=1)\n",
    "    K = r + s'\n",
    "\n",
    "    # x[s + r] += 1 adds 1 for every final position on the line\n",
    "    for k in K\n",
    "        (0 < k <= n) && (x[k] += 1)\n",
    "    end\n",
    "\n",
    "    # normalizes probability\n",
    "    return x / num_reads\n",
    "end"
   ]
  },
  {
   "cell_type": "markdown",
   "metadata": {},
   "source": [
    "## Quantum Drunkard"
   ]
  },
  {
   "cell_type": "code",
   "execution_count": 52,
   "metadata": {},
   "outputs": [
    {
     "data": {
      "text/plain": [
       "quantum_walk (generic function with 2 methods)"
      ]
     },
     "execution_count": 52,
     "metadata": {},
     "output_type": "execute_result"
    }
   ],
   "source": [
    "function quantum_walk(n::Integer=100; steps::Integer=25, num_reads::Integer=100n)\n",
    "    m = n ÷ 2\n",
    "    \n",
    "    # Initial Coin\n",
    "    σ = H(1) * State(0)\n",
    "    \n",
    "    # Number of Qubits\n",
    "    nq = ceil(Int, log2(n))\n",
    "    \n",
    "    # Initial Position\n",
    "    x = State(m, nq)\n",
    "    \n",
    "    # Initial System State\n",
    "    ψ = σ ⊗ x\n",
    "    \n",
    "    # Coin Operator\n",
    "    C = H(1) ⊗ I(nq)\n",
    "    \n",
    "    # Shift Operator\n",
    "    S = I(1) ⊗ shift(n)\n",
    "    \n",
    "    # Coin-Shift Operator\n",
    "    U = S * C\n",
    "    \n",
    "    return\n",
    "    \n",
    "    # Apply U `steps` times\n",
    "    for _ = 1:steps\n",
    "        ψ = U * ψ\n",
    "    end\n",
    "    \n",
    "    # Amplitues\n",
    "    λ = zeros(Float64, n)\n",
    "\n",
    "    for k = 1:n\n",
    "        ϕ = State(k, nq)\n",
    "        M = I(1) ⊗ (ϕ * ϕ')\n",
    "        Ψ = M * ψ\n",
    "        \n",
    "        λ[k] = real(Ψ' * Ψ)\n",
    "    end\n",
    "    \n",
    "    return λ\n",
    "end"
   ]
  },
  {
   "cell_type": "code",
   "execution_count": 53,
   "metadata": {},
   "outputs": [
    {
     "ename": "LoadError",
     "evalue": "DimensionMismatch: A has dimensions (32,32) but B has dimensions (256,256)",
     "output_type": "error",
     "traceback": [
      "DimensionMismatch: A has dimensions (32,32) but B has dimensions (256,256)",
      "",
      "Stacktrace:",
      " [1] gemm_wrapper!(C::Matrix{ComplexF64}, tA::Char, tB::Char, A::Matrix{ComplexF64}, B::Matrix{ComplexF64}, _add::LinearAlgebra.MulAddMul{true, true, Bool, Bool})",
      "   @ LinearAlgebra C:\\Users\\pedroxavier\\.julia\\juliaup\\julia-1.9.3+0.x64.w64.mingw32\\share\\julia\\stdlib\\v1.9\\LinearAlgebra\\src\\matmul.jl:646",
      " [2] mul!",
      "   @ C:\\Users\\pedroxavier\\.julia\\juliaup\\julia-1.9.3+0.x64.w64.mingw32\\share\\julia\\stdlib\\v1.9\\LinearAlgebra\\src\\matmul.jl:161 [inlined]",
      " [3] mul!",
      "   @ C:\\Users\\pedroxavier\\.julia\\juliaup\\julia-1.9.3+0.x64.w64.mingw32\\share\\julia\\stdlib\\v1.9\\LinearAlgebra\\src\\matmul.jl:276 [inlined]",
      " [4] *",
      "   @ C:\\Users\\pedroxavier\\.julia\\juliaup\\julia-1.9.3+0.x64.w64.mingw32\\share\\julia\\stdlib\\v1.9\\LinearAlgebra\\src\\matmul.jl:154 [inlined]",
      " [5] *",
      "   @ C:\\Users\\pedroxavier\\Documents\\QC-Tutorial\\src\\QCTutorial.jl:152 [inlined]",
      " [6] quantum_walk(n::Int64; steps::Int64, num_reads::Int64)",
      "   @ Main .\\In[52]:23",
      " [7] quantum_walk(n::Int64)",
      "   @ Main .\\In[52]:1",
      " [8] top-level scope",
      "   @ In[53]:1"
     ]
    }
   ],
   "source": [
    "quantum_walk(100)"
   ]
  },
  {
   "cell_type": "code",
   "execution_count": 34,
   "metadata": {},
   "outputs": [
    {
     "ename": "LoadError",
     "evalue": "DimensionMismatch: A has dimensions (2,2) but B has dimensions (128,128)",
     "output_type": "error",
     "traceback": [
      "DimensionMismatch: A has dimensions (2,2) but B has dimensions (128,128)",
      "",
      "Stacktrace:",
      "  [1] gemm_wrapper!(C::Matrix{ComplexF64}, tA::Char, tB::Char, A::Matrix{ComplexF64}, B::Matrix{ComplexF64}, _add::LinearAlgebra.MulAddMul{true, true, Bool, Bool})",
      "    @ LinearAlgebra C:\\Users\\pedroxavier\\.julia\\juliaup\\julia-1.9.3+0.x64.w64.mingw32\\share\\julia\\stdlib\\v1.9\\LinearAlgebra\\src\\matmul.jl:646",
      "  [2] mul!",
      "    @ C:\\Users\\pedroxavier\\.julia\\juliaup\\julia-1.9.3+0.x64.w64.mingw32\\share\\julia\\stdlib\\v1.9\\LinearAlgebra\\src\\matmul.jl:161 [inlined]",
      "  [3] mul!",
      "    @ C:\\Users\\pedroxavier\\.julia\\juliaup\\julia-1.9.3+0.x64.w64.mingw32\\share\\julia\\stdlib\\v1.9\\LinearAlgebra\\src\\matmul.jl:276 [inlined]",
      "  [4] *",
      "    @ C:\\Users\\pedroxavier\\.julia\\juliaup\\julia-1.9.3+0.x64.w64.mingw32\\share\\julia\\stdlib\\v1.9\\LinearAlgebra\\src\\matmul.jl:154 [inlined]",
      "  [5] *",
      "    @ C:\\Users\\pedroxavier\\Documents\\QC-Tutorial\\src\\QCTutorial.jl:152 [inlined]",
      "  [6] quantum_walk(n::Int64; steps::Int64, num_reads::Int64)",
      "    @ Main .\\In[33]:17",
      "  [7] (::var\"#48#49\")(steps::Int64, RandomWalk::Bool, QuantumWalk::Bool)",
      "    @ Main .\\In[34]:13",
      "  [8] #map#13",
      "    @ C:\\Users\\pedroxavier\\.julia\\packages\\Observables\\YdEbO\\src\\Observables.jl:570 [inlined]",
      "  [9] map(::var\"#48#49\", ::Widget{:slider, Int64}, ::Widget{:togglebuttons, Any}, ::Widget{:togglebuttons, Any})",
      "    @ Observables C:\\Users\\pedroxavier\\.julia\\packages\\Observables\\YdEbO\\src\\Observables.jl:568",
      " [10] top-level scope",
      "    @ C:\\Users\\pedroxavier\\.julia\\packages\\Widgets\\RFAvq\\src\\manipulate.jl:25"
     ]
    }
   ],
   "source": [
    "total_steps = 100\n",
    "\n",
    "@manipulate for steps in 1:100, RandomWalk=(true,false), QuantumWalk=(true,false)\n",
    "    plt = plot(; label=\"steps = $steps\", legend=:topleft, ylims=(0.0,1.0), ylabel=\"Probability\", xlims=(1,total_steps))\n",
    "    \n",
    "    if RandomWalk\n",
    "        rw = random_walk(total_steps; steps)\n",
    "\n",
    "        scatter!(plt, rw; label=\"Random Walk\", color=:violet)\n",
    "    end\n",
    "    \n",
    "    if QuantumWalk\n",
    "        qw = quantum_walk(total_steps; steps)\n",
    "\n",
    "        scatter!(plt, qw; label=\"Quantum Walk\", color=:green)\n",
    "    end\n",
    "    \n",
    "    plt\n",
    "end"
   ]
  },
  {
   "cell_type": "code",
   "execution_count": 37,
   "metadata": {},
   "outputs": [
    {
     "ename": "LoadError",
     "evalue": "DimensionMismatch: A has dimensions (2,2) but B has dimensions (128,128)",
     "output_type": "error",
     "traceback": [
      "DimensionMismatch: A has dimensions (2,2) but B has dimensions (128,128)",
      "",
      "Stacktrace:",
      " [1] gemm_wrapper!(C::Matrix{ComplexF64}, tA::Char, tB::Char, A::Matrix{ComplexF64}, B::Matrix{ComplexF64}, _add::LinearAlgebra.MulAddMul{true, true, Bool, Bool})",
      "   @ LinearAlgebra C:\\Users\\pedroxavier\\.julia\\juliaup\\julia-1.9.3+0.x64.w64.mingw32\\share\\julia\\stdlib\\v1.9\\LinearAlgebra\\src\\matmul.jl:646",
      " [2] mul!",
      "   @ C:\\Users\\pedroxavier\\.julia\\juliaup\\julia-1.9.3+0.x64.w64.mingw32\\share\\julia\\stdlib\\v1.9\\LinearAlgebra\\src\\matmul.jl:161 [inlined]",
      " [3] mul!",
      "   @ C:\\Users\\pedroxavier\\.julia\\juliaup\\julia-1.9.3+0.x64.w64.mingw32\\share\\julia\\stdlib\\v1.9\\LinearAlgebra\\src\\matmul.jl:276 [inlined]",
      " [4] *",
      "   @ C:\\Users\\pedroxavier\\.julia\\juliaup\\julia-1.9.3+0.x64.w64.mingw32\\share\\julia\\stdlib\\v1.9\\LinearAlgebra\\src\\matmul.jl:154 [inlined]",
      " [5] *",
      "   @ C:\\Users\\pedroxavier\\Documents\\QC-Tutorial\\src\\QCTutorial.jl:152 [inlined]",
      " [6] quantum_walk(n::Int64; steps::Int64, num_reads::Int64)",
      "   @ Main .\\In[33]:17",
      " [7] quantum_walk(n::Int64)",
      "   @ Main .\\In[33]:1",
      " [8] top-level scope",
      "   @ In[37]:1"
     ]
    }
   ],
   "source": [
    "quantum_walk(100)"
   ]
  },
  {
   "cell_type": "code",
   "execution_count": null,
   "metadata": {},
   "outputs": [],
   "source": []
  }
 ],
 "metadata": {
  "@webio": {
   "lastCommId": "658b1ba3fd374bf18e89034e75b2b88a",
   "lastKernelId": "4ed8fb99-74fe-4b42-9085-819f5921a3f4"
  },
  "kernelspec": {
   "display_name": "Julia 1.9 1.9.3",
   "language": "julia",
   "name": "julia-1.9-1.9"
  },
  "language_info": {
   "file_extension": ".jl",
   "mimetype": "application/julia",
   "name": "julia",
   "version": "1.9.3"
  }
 },
 "nbformat": 4,
 "nbformat_minor": 2
}
